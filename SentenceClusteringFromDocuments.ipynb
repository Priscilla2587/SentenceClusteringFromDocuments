{
 "cells": [
  {
   "cell_type": "code",
   "execution_count": null,
   "id": "53f54d30",
   "metadata": {},
   "outputs": [],
   "source": [
    "# Import text from Excel worksheet.\n",
    "\n",
    "import pandas as pd\n",
    "\n",
    "file_path = \"SampleDocuments2.xlsx\"\n",
    "file_df = pd.read_excel(file_path)\n",
    "file_df"
   ]
  },
  {
   "cell_type": "code",
   "execution_count": null,
   "id": "33bb531e",
   "metadata": {},
   "outputs": [],
   "source": [
    "# Only needs to run if package not already installed.\n",
    "\n",
    "!pip install spacy"
   ]
  },
  {
   "cell_type": "code",
   "execution_count": null,
   "id": "f7be7d64",
   "metadata": {},
   "outputs": [],
   "source": [
    "# Only needs to run if not already installed.\n",
    "\n",
    "!python -m spacy download en_core_web_sm"
   ]
  },
  {
   "cell_type": "code",
   "execution_count": null,
   "id": "a2d359e1",
   "metadata": {},
   "outputs": [],
   "source": [
    "# Split text in each cell into lists with separate sentences.\n",
    "\n",
    "import spacy\n",
    "\n",
    "nlp = spacy.load(\"en_core_web_sm\")\n",
    "file_df[\"doc_text\"] = file_df[\"doc_text\"].apply(lambda x: [sent.text for sent in nlp(x).sents])\n",
    "file_df"
   ]
  },
  {
   "cell_type": "code",
   "execution_count": null,
   "id": "eea5200f",
   "metadata": {},
   "outputs": [],
   "source": [
    "# Put each sentence into a separate row in the dataframe.\n",
    "\n",
    "file_df = file_df.explode(\"doc_text\", ignore_index=True)\n",
    "\n",
    "# Update the column headings.\n",
    "\n",
    "file_df.rename(columns={\"doc_text\": \"sent_text\"}, inplace=True)\n",
    "file_df.index.name = \"sent_id\"\n",
    "\n",
    "# Show the contents of the dataframe.\n",
    "\n",
    "file_df"
   ]
  },
  {
   "cell_type": "code",
   "execution_count": null,
   "id": "9f4d16ed",
   "metadata": {},
   "outputs": [],
   "source": [
    "# Add the sentence text and IDs to lists for further processing.\n",
    "\n",
    "sent_id = file_df.index.values.tolist()\n",
    "sent_text = file_df.sent_text.values.tolist()\n",
    "sent_id"
   ]
  },
  {
   "cell_type": "code",
   "execution_count": null,
   "id": "00ec3329",
   "metadata": {},
   "outputs": [],
   "source": [
    "# Only needs to run if not already installed.\n",
    "\n",
    "!pip install sentence-transformers"
   ]
  },
  {
   "cell_type": "code",
   "execution_count": null,
   "id": "cca6b508",
   "metadata": {},
   "outputs": [],
   "source": [
    "# Select the model to use for sentence embeddings.\n",
    "\n",
    "from sentence_transformers import SentenceTransformer\n",
    "\n",
    "# Models - https://huggingface.co/models?library=sentence-transformers\n",
    "model = SentenceTransformer('all-mpnet-base-v2')"
   ]
  },
  {
   "cell_type": "code",
   "execution_count": null,
   "id": "d191f6aa",
   "metadata": {},
   "outputs": [],
   "source": [
    "# Create the sentence embeddings\n",
    "\n",
    "embeddings1 = model.encode(sent_text)"
   ]
  },
  {
   "cell_type": "code",
   "execution_count": null,
   "id": "793ef0c0",
   "metadata": {},
   "outputs": [],
   "source": [
    "# clustering https://www.youtube.com/watch?v=OlhNZg4gOvA time index 22:00\n",
    "\n",
    "from sklearn.cluster import KMeans\n",
    "import numpy as np\n",
    "\n",
    "# normalize the embeddings to unit length\n",
    "embeddings_norm = embeddings1 / np.linalg.norm(embeddings1, axis=1, keepdims=True)\n",
    "\n",
    "# Show the embeddings dataframe.\n",
    "embeddings_norm"
   ]
  },
  {
   "cell_type": "code",
   "execution_count": null,
   "id": "f9c016a3",
   "metadata": {},
   "outputs": [],
   "source": [
    "# Import the libraries needed to create the elbow diagram.\n",
    "\n",
    "import pandas as pd\n",
    "import matplotlib.pyplot as plt\n",
    "from sklearn.cluster import KMeans"
   ]
  },
  {
   "cell_type": "code",
   "execution_count": null,
   "id": "1b345b4b",
   "metadata": {},
   "outputs": [],
   "source": [
    "# Look at the elbow diagram to help determine appropriate number of clusters to create.\n",
    "\n",
    "# determining the maximum number of clusters\n",
    "# using the simple method\n",
    "limit = file_df.shape[0]\n",
    " \n",
    "# selecting optimal value of 'k'\n",
    "# using elbow method\n",
    " \n",
    "# wcss - within cluster sum of\n",
    "# squared distances\n",
    "wcss = {}\n",
    " \n",
    "for k in range(2,limit+1):\n",
    "    model = KMeans(n_clusters=k)\n",
    "    model.fit(embeddings_norm)\n",
    "    wcss[k] = model.inertia_\n",
    "     \n",
    "# plotting the wcss values\n",
    "# to find out the elbow value\n",
    "plt.plot(wcss.keys(), wcss.values(), 'gs-')\n",
    "plt.xlabel('Values of \"k\"')\n",
    "plt.ylabel('WCSS')\n",
    "plt.show()"
   ]
  },
  {
   "cell_type": "code",
   "execution_count": null,
   "id": "d3024a6a",
   "metadata": {},
   "outputs": [],
   "source": [
    "# Create the desired number of clusters. (Update the value for ClusterCount.)\n",
    "\n",
    "ClusterCount = 4\n",
    "\n",
    "clustering_model = KMeans(n_clusters=ClusterCount)\n",
    "clustering_model.fit(embeddings_norm)\n",
    "cluster_assignment = clustering_model.labels_\n",
    "print(cluster_assignment)"
   ]
  },
  {
   "cell_type": "code",
   "execution_count": null,
   "id": "1688c29a",
   "metadata": {},
   "outputs": [],
   "source": [
    "# Add the cluster assignments to the dataframe in a new column.\n",
    "\n",
    "file_df['cluster8'] = cluster_assignment\n",
    "file_df"
   ]
  },
  {
   "cell_type": "code",
   "execution_count": null,
   "id": "ad7b4f6b",
   "metadata": {},
   "outputs": [],
   "source": [
    "# Get file path in preparation for saving output to Excel.\n",
    "\n",
    "import os\n",
    "\n",
    "OutputFile = os.path.split(file_path)[0] + \"\\\\Clusters_\" + os.path.split(file_path)[1]\n",
    "OutputFile"
   ]
  },
  {
   "cell_type": "code",
   "execution_count": null,
   "id": "47e47396",
   "metadata": {},
   "outputs": [],
   "source": [
    "# Save the dataframe to an Excel workbook in the same folder as the original file.\n",
    "\n",
    "with pd.ExcelWriter(OutputFile) as writer:\n",
    "    \n",
    "    # Write the scores dataframe to the Excel workbook. Leave blank rows at the top.\n",
    "    file_df.to_excel(writer, sheet_name=\"Sheet1\", startrow=0, startcol=0)\n",
    "    \n",
    "print('Done.')"
   ]
  }
 ],
 "metadata": {
  "kernelspec": {
   "display_name": "Python 3 (ipykernel)",
   "language": "python",
   "name": "python3"
  },
  "language_info": {
   "codemirror_mode": {
    "name": "ipython",
    "version": 3
   },
   "file_extension": ".py",
   "mimetype": "text/x-python",
   "name": "python",
   "nbconvert_exporter": "python",
   "pygments_lexer": "ipython3",
   "version": "3.9.12"
  }
 },
 "nbformat": 4,
 "nbformat_minor": 5
}
